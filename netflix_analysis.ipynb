import pandas as pd 
import numpy as np 
df = pd.DataFrame({
    'a': [1, 2, np.nan, 4, 5],
    'b': [6, np.nan, 8, 9, 10]
})

# Creating a mask to identify missing values
mask = df.isnull()
print("Mask of missing values:\n", mask)